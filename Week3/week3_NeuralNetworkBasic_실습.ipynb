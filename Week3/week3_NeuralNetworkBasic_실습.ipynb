{
 "cells": [
  {
   "cell_type": "markdown",
   "id": "00493e77",
   "metadata": {},
   "source": [
    "> # Neural Network Basic - Week3 과제\n"
   ]
  },
  {
   "cell_type": "markdown",
   "id": "747656a3",
   "metadata": {},
   "source": [
    "## Import Library"
   ]
  },
  {
   "cell_type": "code",
   "execution_count": 1,
   "id": "2d4be987",
   "metadata": {},
   "outputs": [],
   "source": [
    "import numpy as np\n",
    "from matplotlib import pyplot as plt\n",
    "from dataset.mnist import load_mnist"
   ]
  },
  {
   "cell_type": "markdown",
   "id": "bbd9ddbb",
   "metadata": {},
   "source": [
    "## Load Dataset\n",
    "- MNIST "
   ]
  },
  {
   "cell_type": "code",
   "execution_count": 2,
   "id": "2813d656",
   "metadata": {},
   "outputs": [],
   "source": [
    "(X_train, Y_train), (X_test, Y_test) = \\\n",
    "    load_mnist(normalize=True, one_hot_label=False)"
   ]
  },
  {
   "cell_type": "code",
   "execution_count": 3,
   "id": "2bd1d69a",
   "metadata": {},
   "outputs": [
    {
     "name": "stdout",
     "output_type": "stream",
     "text": [
      "X_train shape: (60000, 784)\n",
      "X_test shape: (10000, 784)\n",
      "Y_train shape: (60000,)\n",
      "Y_train shape: (10000,)\n"
     ]
    }
   ],
   "source": [
    "print(f'X_train shape: {X_train.shape}')\n",
    "print(f'X_test shape: {X_test.shape}')\n",
    "print(f'Y_train shape: {Y_train.shape}')\n",
    "print(f'Y_train shape: {Y_test.shape}')"
   ]
  },
  {
   "cell_type": "markdown",
   "id": "4581cc2e",
   "metadata": {},
   "source": [
    "## Activation Function \n",
    "- sigmoid & relu : hidden layer activation function \n",
    "- softmax : output layer activation function "
   ]
  },
  {
   "cell_type": "code",
   "execution_count": 4,
   "id": "a147a2b7",
   "metadata": {},
   "outputs": [],
   "source": [
    "class sigmoid:\n",
    "    # sigmoid 함수를 작성하세요 \n",
    "    def forward(x):\n",
    "        hx = 1/(1+np.e**(-x))\n",
    "        return hx\n",
    "    \n",
    "    # sigmoid 함수의 미분을 작성하세요\n",
    "    def backward(x):\n",
    "        return (np.e**(-x))/(1+np.e**(-x))**2"
   ]
  },
  {
   "cell_type": "code",
   "execution_count": 51,
   "id": "f37afa8d",
   "metadata": {},
   "outputs": [],
   "source": [
    "class relu:\n",
    "    # relu 함수를 작성하세요\n",
    "    def forward(x):\n",
    "        return np.maximum(0,x)\n",
    "    \n",
    "    # relu 함수의 미분을 작성하세요\n",
    "    def backward(x):\n",
    "        return (x>0).astype(int)"
   ]
  },
  {
   "cell_type": "code",
   "execution_count": 6,
   "id": "cb44b346",
   "metadata": {},
   "outputs": [],
   "source": [
    "class softmax:\n",
    "    def forward(z):\n",
    "        y = []\n",
    "        for zi in z:\n",
    "            c = np.max(zi)\n",
    "            exp_zi = np.exp(zi-c)\n",
    "            sum_exp_zi = np.sum(exp_zi)\n",
    "            yi = exp_zi / sum_exp_zi\n",
    "            y.append(yi)\n",
    "\n",
    "        return np.array(y)\n",
    "    \n",
    "    def backward(p, y) :\n",
    "        dp = p.copy()\n",
    "        for dpi, yi in zip(dp, y):\n",
    "            for k in range(dp.shape[1]):\n",
    "                if k == yi :\n",
    "                    dpi[k] -= 1\n",
    "        return dp"
   ]
  },
  {
   "cell_type": "markdown",
   "id": "36955740",
   "metadata": {},
   "source": [
    "## Loss Function"
   ]
  },
  {
   "cell_type": "code",
   "execution_count": 7,
   "id": "44e0ad37",
   "metadata": {},
   "outputs": [],
   "source": [
    "def cross_entropy(p, y):\n",
    "    loss = []\n",
    "    for pi, yi in zip(p, y):\n",
    "        for k in range(p.shape[1]):\n",
    "            if k == yi:\n",
    "                loss.append((-1) * (np.log(pi[k] + 1e-8))) \n",
    "    return loss"
   ]
  },
  {
   "cell_type": "markdown",
   "id": "0f9a7228",
   "metadata": {},
   "source": [
    "## Layer"
   ]
  },
  {
   "cell_type": "code",
   "execution_count": 8,
   "id": "668bda1a",
   "metadata": {},
   "outputs": [],
   "source": [
    "class Layer:\n",
    "    def __init__(self, input_size, output_size, std=1e-4) :\n",
    "        self.input_size = input_size\n",
    "        self.output_size = output_size\n",
    "        self.bias = np.random.randn(output_size)\n",
    "        self.weight = np.random.randn(input_size, output_size)*std"
   ]
  },
  {
   "cell_type": "markdown",
   "id": "a72dfcee",
   "metadata": {},
   "source": [
    "## Neural Network\n",
    "- 각 메소드와 변수들의 역할을 주석으로 달아주세요!\n",
    "- 변수\n",
    "  - `lr`: 학습률, 오차역전파법을 수행할 때 경사를 얼마나 반영할지 지정\n",
    "  - `epoch`: 에포크, 몇 에포크를 학습할지 지정(1에포크=데이터셋을 모두 사용해 1번 학습)\n",
    "  - `batch_size`: 배치사이즈, 1 iteration에서 사용할 학습 데이터 수\n",
    "  - `loss_function`: 손실함수, 해당 함수를 최소화하는 것을 목적으로 학습\n",
    "  - `layers`: 신경망의 각 층을 보관하는 리스트\n",
    "  - `activations`: 활성화 함수를 보관하는 리스트, 비선형성 부여\n",
    "  - `nodes`: 각 층의 노드를 보관하는 리스트\n",
    "- 메소드\n",
    "  - `addLayer`: Layer를 추가하는 함수\n",
    "  - `addActivation`: Activation Fucntion을 추가하는 함수\n",
    "  - `_forward`: 순전파를 수행하는 함수\n",
    "  - `_backward`: 역전파를 수행하는 함수\n",
    "  - `_accuracy`: 정확도를 계산하는 함수\n",
    "  - `fit`: 데이터셋을 활용해 모델을 학습하는 함수"
   ]
  },
  {
   "cell_type": "code",
   "execution_count": 9,
   "id": "33125095",
   "metadata": {},
   "outputs": [],
   "source": [
    "class CustomNet:\n",
    "    # CustomNet을 선언할 때 생성되는 값들입니다.\n",
    "    def __init__(self, lr=0.0001, epoch=500, batch_size=200):\n",
    "        self.lr = lr\n",
    "        self.epoch = epoch\n",
    "        self.batch_size = batch_size\n",
    "        self.loss_function = cross_entropy\n",
    "        self.layers = []\n",
    "        self.activations = [softmax]\n",
    "        self.nodes = []\n",
    "    \n",
    "    # Layer를 추가할 때 호출합니다\n",
    "    def addLayer(self, Layer): \n",
    "        self.layers.append(Layer) \n",
    "        if not self.nodes: \n",
    "            self.nodes.append(np.zeros(Layer.input_size))\n",
    "        self.nodes.append(np.zeros(Layer.output_size))\n",
    "        \n",
    "    # Activation Function을 추가할 때 호출합니다\n",
    "    def addActivation(self, Activation):\n",
    "        tmp = self.activations.pop() \n",
    "        self.activations.append(Activation) \n",
    "        self.activations.append(tmp) \n",
    "        \n",
    "    # 순전파 함수\n",
    "    def _forward(self, X):\n",
    "        self.nodes[0] = X.copy() \n",
    "        output = X.copy() \n",
    "        for i in range(len(self.layers)): \n",
    "            Layer = self.layers[i] \n",
    "            Activation = self.activations[i] \n",
    "            output = np.dot(self.nodes[i], Layer.weight) \n",
    "            output = output+ Layer.bias \n",
    "            output = Activation.forward(output) \n",
    "            self.nodes[i+1] = output \n",
    "        return output   \n",
    "    \n",
    "    # 역전파 함수\n",
    "    def _backward(self, X, output, y) :\n",
    "        for i in reversed(range(len(self.layers))): \n",
    "            a = self.nodes[i+1] \n",
    "            Layer = self.layers[i] \n",
    "            Activation = self.activations[i] \n",
    "            \n",
    "            if i+1 == len(self.layers): \n",
    "                error = Activation.backward(output, y)\n",
    "            else:\n",
    "                error *= Activation.backward(a)\n",
    "            Layer.weight -= np.dot(error.T, self.nodes[i]).T*self.lr/X.shape[0] \n",
    "            Layer.bias -= error.sum(axis=0)*self.lr/X.shape[0]\n",
    "            error = np.dot(error, Layer.weight.T) \n",
    "            \n",
    "    # Accrucy를 반환합니다\n",
    "    def _accuracy(self, output, y):\n",
    "        pre_p = np.argmax(output, axis=1)\n",
    "        return np.sum(pre_p==y)/y.shape[0] \n",
    "    \n",
    "    # 데이터셋에 모델을 fit할때 호출합니다\n",
    "    def fit(self, X, y, val_X, val_y):\n",
    "        history = {'val_acc': [],'val_loss': []}\n",
    "        N = X.shape[0]\n",
    "        for i in range(self.epoch):\n",
    "            for j in range(N//self.batch_size): \n",
    "                batch_mask = np.random.choice(N, self.batch_size)\n",
    "                X_batch = X[batch_mask] \n",
    "                y_batch = y[batch_mask] \n",
    "                output = self._forward(X_batch) \n",
    "                self._backward(X_batch, output, y_batch)\n",
    "            \n",
    "            #accuracy와 loss를 기록해둡시다\n",
    "            output = self._forward(val_X) \n",
    "            history[\"val_acc\"].append(self._accuracy(output, val_y)) \n",
    "            history[\"val_loss\"].append(sum(self.loss_function(output, val_y))) \n",
    "            \n",
    "            #중간중간 기록을 찍어볼 때 사용. 적절히 조절해 쓰세요\n",
    "            if i % 10 == 0:\n",
    "                print(i, \"test accuracy :\", history[\"val_acc\"][-1])\n",
    "                print(i, \"test loss     :\", history[\"val_loss\"][-1])\n",
    "        return history"
   ]
  },
  {
   "cell_type": "markdown",
   "id": "e7787d0e",
   "metadata": {},
   "source": [
    "## Customizing\n",
    "- Network parameter, Layer architecture, Activation function .. 등등 다양한 하이퍼파라미터를 커스터마이징하여 높은 성능에 도달해 봅시다! "
   ]
  },
  {
   "cell_type": "code",
   "execution_count": 10,
   "id": "10d3d20c",
   "metadata": {},
   "outputs": [],
   "source": [
    "# 하이퍼파라미터를 적절히 조절해 뉴럴넷을 선언하세요\n",
    "nn = CustomNet(lr=0.005, epoch=200, batch_size=400)\n",
    "\n",
    "# 원하는 만큼 층과 활성화 함수를 쌓아 주세요. 기본적으로 2Layer를 예시로 적어드립니다\n",
    "nn.addLayer(Layer(784,100))\n",
    "nn.addActivation(sigmoid)\n",
    "nn.addLayer(Layer(100,10))\n",
    "\n",
    "# 선언한 뉴럴넷의 구조입니다\n",
    "for layer in nn.layers:\n",
    "    print(layer.weight.shape, layer.bias.shape)\n",
    "\n",
    "history = nn.fit(X_train, Y_train, X_test, Y_test)"
   ]
  },
  {
   "cell_type": "markdown",
   "id": "b76a6163",
   "metadata": {},
   "source": [
    "## Accuracy, Loss Visualization\n",
    "- 자유롭게 Accuracy나 Loss를 시각화하여 확인하고 결과를 확인해 보세요! "
   ]
  },
  {
   "cell_type": "code",
   "execution_count": 19,
   "id": "eb733190",
   "metadata": {},
   "outputs": [
    {
     "data": {
      "image/png": "[encoded data removed]",
      "text/plain": [
       "<Figure size 1000x200 with 2 Axes>"
      ]
     },
     "metadata": {},
     "output_type": "display_data"
    }
   ],
   "source": [
    "fig, axes = plt.subplots(1,2, figsize=(10,2))\n",
    "axes[0].plot(range(200), history[\"val_acc\"], label=\"Accuracy\")\n",
    "axes[1].plot(range(200), history[\"val_loss\"], label=\"Loss\")\n",
    "axes[0].legend()\n",
    "axes[1].legend()\n",
    "plt.show()"
   ]
  },
  {
   "cell_type": "code",
   "execution_count": 53,
   "id": "ed30a574",
   "metadata": {},
   "outputs": [
    {
     "name": "stdout",
     "output_type": "stream",
     "text": [
      "(784, 300) (300,)\n",
      "(300, 100) (100,)\n",
      "(100, 10) (10,)\n"
     ]
    }
   ],
   "source": [
    "# 하이퍼파라미터를 적절히 조절해 뉴럴넷을 선언하세요\n",
    "nn = CustomNet(lr=0.005, epoch=200, batch_size=128)\n",
    "\n",
    "# 원하는 만큼 층과 활성화 함수를 쌓아 주세요. 기본적으로 2Layer를 예시로 적어드립니다\n",
    "nn.addLayer(Layer(784,300))\n",
    "nn.addActivation(relu)\n",
    "nn.addLayer(Layer(300,100))\n",
    "nn.addActivation(relu)\n",
    "nn.addLayer(Layer(100,10))\n",
    "\n",
    "# 선언한 뉴럴넷의 구조입니다\n",
    "for layer in nn.layers:\n",
    "    print(layer.weight.shape, layer.bias.shape)"
   ]
  },
  {
   "cell_type": "code",
   "execution_count": 54,
   "id": "8702d4f6",
   "metadata": {},
   "outputs": [
    {
     "name": "stdout",
     "output_type": "stream",
     "text": [
      "0 test accuracy : 0.1135\n",
      "0 test loss     : 23010.54342494647\n",
      "10 test accuracy : 0.1178\n",
      "10 test loss     : 22756.076969207974\n",
      "20 test accuracy : 0.1791\n",
      "20 test loss     : 21325.555483386655\n",
      "30 test accuracy : 0.2659\n",
      "30 test loss     : 18436.95604960682\n",
      "40 test accuracy : 0.5238\n",
      "40 test loss     : 13622.713450452033\n",
      "50 test accuracy : 0.7692\n",
      "50 test loss     : 7640.784867507029\n",
      "60 test accuracy : 0.8445\n",
      "60 test loss     : 5450.648450823634\n",
      "70 test accuracy : 0.8691\n",
      "70 test loss     : 4701.153662400523\n",
      "80 test accuracy : 0.8902\n",
      "80 test loss     : 4006.212150507734\n",
      "90 test accuracy : 0.9074\n",
      "90 test loss     : 3386.0990911774625\n",
      "100 test accuracy : 0.9203\n",
      "100 test loss     : 2929.412904905622\n",
      "110 test accuracy : 0.9295\n",
      "110 test loss     : 2598.0416727650345\n",
      "120 test accuracy : 0.9361\n",
      "120 test loss     : 2382.2407073693225\n",
      "130 test accuracy : 0.9396\n",
      "130 test loss     : 2227.737477087288\n",
      "140 test accuracy : 0.9422\n",
      "140 test loss     : 2110.5448509793628\n",
      "150 test accuracy : 0.9442\n",
      "150 test loss     : 2019.596584335847\n",
      "160 test accuracy : 0.9479\n",
      "160 test loss     : 1916.337469261652\n",
      "170 test accuracy : 0.9512\n",
      "170 test loss     : 1807.3503552934308\n",
      "180 test accuracy : 0.9525\n",
      "180 test loss     : 1727.7430383498217\n",
      "190 test accuracy : 0.9541\n",
      "190 test loss     : 1669.9518228838997\n"
     ]
    }
   ],
   "source": [
    "history = nn.fit(X_train, Y_train, X_test, Y_test)"
   ]
  },
  {
   "cell_type": "code",
   "execution_count": 55,
   "id": "7fc3398b",
   "metadata": {},
   "outputs": [
    {
     "data": {
      "image/png": "[encoded data removed]",
      "text/plain": [
       "<Figure size 1000x200 with 2 Axes>"
      ]
     },
     "metadata": {},
     "output_type": "display_data"
    }
   ],
   "source": [
    "fig, axes = plt.subplots(1,2, figsize=(10,2))\n",
    "axes[0].plot(range(200), history[\"val_acc\"], label=\"Accuracy\")\n",
    "axes[1].plot(range(200), history[\"val_loss\"], label=\"Loss\")\n",
    "axes[0].legend()\n",
    "axes[1].legend()\n",
    "plt.show()"
   ]
  }
 ],
 "metadata": {
  "kernelspec": {
   "display_name": "Python 3 (ipykernel)",
   "language": "python",
   "name": "python3"
  },
  "language_info": {
   "codemirror_mode": {
    "name": "ipython",
    "version": 3
   },
   "file_extension": ".py",
   "mimetype": "text/x-python",
   "name": "python",
   "nbconvert_exporter": "python",
   "pygments_lexer": "ipython3",
   "version": "3.9.10"
  }
 },
 "nbformat": 4,
 "nbformat_minor": 5
}
